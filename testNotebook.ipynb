{
 "metadata": {
  "language_info": {
   "codemirror_mode": {
    "name": "ipython",
    "version": 3
   },
   "file_extension": ".py",
   "mimetype": "text/x-python",
   "name": "python",
   "nbconvert_exporter": "python",
   "pygments_lexer": "ipython3",
   "version": "3.8.6-final"
  },
  "orig_nbformat": 2,
  "kernelspec": {
   "name": "python3",
   "display_name": "Python 3",
   "language": "python"
  }
 },
 "nbformat": 4,
 "nbformat_minor": 2,
 "cells": [
  {
   "cell_type": "code",
   "execution_count": 3,
   "metadata": {},
   "outputs": [],
   "source": [
    "import pandas as pd"
   ]
  },
  {
   "source": [
    "def load_tables():\n",
    "    antiD = pd.read_csv(\"./deconv/data/anti-D.csv\")\n",
    "    antiT = pd.read_csv(\"./deconv/data/anti-TNP.csv\")\n",
    "    return (antiD, antiT)\n",
    "\n",
    "def load_figures():\n",
    "    # binding in doners with specific r3a gamma receptor\n",
    "    figA = pd.read_csv(\"./deconv/data/fig3a.csv\")\n",
    "    # combination of 4 independent receptors?\n",
    "    # number of the mixture (4 data points for each mixture), cytotoxicity percentage \n",
    "    figB = pd.read_csv(\"./deconv/data/fig3b.csv\")\n",
    "    return (figA, figB)"
   ],
   "cell_type": "code",
   "metadata": {},
   "execution_count": 8,
   "outputs": []
  },
  {
   "cell_type": "code",
   "execution_count": 9,
   "metadata": {},
   "outputs": [],
   "source": [
    "anti_D , anti_TNP = load_tables()\n",
    "figA, figB = load_figures()"
   ]
  },
  {
   "cell_type": "code",
   "execution_count": 14,
   "metadata": {},
   "outputs": [],
   "source": [
    "mixtures = anti_D.iloc[:,0]\n",
    "glycans = list(anti_D.columns.values[7:])\n",
    "glycan_matrix = anti_D.iloc[:, 7:].values\n",
    "cytotoxicity = figA.iloc[:, 0]\n"
   ]
  },
  {
   "cell_type": "code",
   "execution_count": null,
   "metadata": {},
   "outputs": [],
   "source": []
  }
 ]
}